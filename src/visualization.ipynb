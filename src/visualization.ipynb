{
 "cells": [
  {
   "cell_type": "code",
   "execution_count": 2,
   "id": "d30244d8",
   "metadata": {},
   "outputs": [],
   "source": [
    "from utils.load import load_to_df"
   ]
  },
  {
   "cell_type": "code",
   "execution_count": 3,
   "id": "081f6543",
   "metadata": {},
   "outputs": [],
   "source": [
    "file_path = r\"D:\\Documents\\trabajo\\freelance\\contests\\TimeSeriesForecasting\\tests\\aHistorical_01012024_02142025.xlsx\"\n",
    "data = load_to_df(file_path)"
   ]
  },
  {
   "cell_type": "code",
   "execution_count": 4,
   "id": "5dbc1292",
   "metadata": {},
   "outputs": [
    {
     "data": {
      "text/plain": [
       "0               Taro Daniel\n",
       "1            Benjamin Bonzi\n",
       "2          Aleksandar Vukic\n",
       "3        Mackenzie McDonald\n",
       "4        Mackenzie McDonald\n",
       "                ...        \n",
       "61748        Matteo Arnaldi\n",
       "61749         Zhang Zhizhen\n",
       "61750       Daniel Altmaier\n",
       "61751           Ugo Humbert\n",
       "61752      Hamad Medjedovic\n",
       "Name: player, Length: 61753, dtype: object"
      ]
     },
     "execution_count": 4,
     "metadata": {},
     "output_type": "execute_result"
    }
   ],
   "source": [
    "data[\"player\"]"
   ]
  }
 ],
 "metadata": {
  "kernelspec": {
   "display_name": ".venv",
   "language": "python",
   "name": "python3"
  },
  "language_info": {
   "codemirror_mode": {
    "name": "ipython",
    "version": 3
   },
   "file_extension": ".py",
   "mimetype": "text/x-python",
   "name": "python",
   "nbconvert_exporter": "python",
   "pygments_lexer": "ipython3",
   "version": "3.12.3"
  }
 },
 "nbformat": 4,
 "nbformat_minor": 5
}
